{
 "cells": [
  {
   "cell_type": "markdown",
   "id": "introduction",
   "metadata": {},
   "source": [
    "## Introduction\n",
    "\n",
    "Henry has to miss baseball tryouts to get ready for his date. Can you cover for him? Henry is a pitcher and the team uses software to analyze pitch patterns to classify pitchers."
   ]
  },
  {
   "cell_type": "markdown",
   "id": "objective",
   "metadata": {},
   "source": [
    "## Objective\n",
    "\n",
    "Can you impersonate someone else by throwing the correct distribution of pitches? Get ya Big League Chew ready.\n",
    "\n",
    "Throw 15 pitches at __x,y__ (each bounded on __[0,29]__). Check out `test_pitch.json` to see the expected format. Can you throw 15 pitches to get classified as Henry?"
   ]
  },
  {
   "cell_type": "code",
   "execution_count": null,
   "id": "api_key",
   "metadata": {},
   "outputs": [],
   "source": [
    "CRUCIBLE_API_KEY = \"YOUR_API_KEY\"  # Replace with your actual API key"
   ]
  },
  {
   "cell_type": "markdown",
   "id": "1090195b",
   "metadata": {},
   "source": [
    "## Required packages\n",
    "\n",
    "Install the required packages, this package may be particularly helpful for you."
   ]
  },
  {
   "cell_type": "code",
   "execution_count": null,
   "id": "imports",
   "metadata": {},
   "outputs": [],
   "source": [
    "%pip install requests"
   ]
  },
  {
   "cell_type": "markdown",
   "id": "notebook_variables",
   "metadata": {},
   "source": [
    "## Set Notebook variables\n",
    "\n",
    "Set the variables used throughout the notebook\n"
   ]
  },
  {
   "cell_type": "code",
   "execution_count": null,
   "id": "setup",
   "metadata": {},
   "outputs": [],
   "source": [
    "CHALLENGE = \"baseball\"\n",
    "CRUCIBLE_URL = \"https://platform.dreadnode.io\"\n",
    "CHALLENGE_URL = \"https://baseball.platform.dreadnode.io\"\n",
    "ARTIFACT_FILES = [\"test_pitch.json\"]"
   ]
  },
  {
   "cell_type": "markdown",
   "id": "967823a0",
   "metadata": {},
   "source": [
    "### Download Data"
   ]
  },
  {
   "cell_type": "code",
   "execution_count": null,
   "id": "3a3ab206",
   "metadata": {},
   "outputs": [],
   "source": [
    "import requests\n",
    "\n",
    "for artifact in ARTIFACT_FILES:\n",
    "    url = f\"{CRUCIBLE_URL}/api/artifacts/{CHALLENGE}/{artifact}\"\n",
    "    headers = {\"X-API-Key\": CRUCIBLE_API_KEY}\n",
    "    response = requests.get(url, headers=headers)\n",
    "    if response.status_code == 200:\n",
    "        with open(artifact, \"wb\") as file:\n",
    "            file.write(response.content)\n",
    "        print(f\"{artifact} was successfully downloaded\")\n",
    "    else:\n",
    "        print(f\"Failed to download {artifact}\")"
   ]
  },
  {
   "cell_type": "markdown",
   "id": "46bbd86c",
   "metadata": {},
   "source": [
    "## Leverage Helper Functions\n",
    "\n",
    "### Load JSON Data"
   ]
  },
  {
   "cell_type": "code",
   "execution_count": null,
   "id": "f1947802",
   "metadata": {},
   "outputs": [],
   "source": [
    "import json\n",
    "\n",
    "with open(\"test_pitch.json\") as f:\n",
    "    data = json.load(f)\n",
    "    print(data)"
   ]
  },
  {
   "cell_type": "markdown",
   "id": "submit_findings_label",
   "metadata": {},
   "source": [
    "## Submit Findings\n",
    "\n",
    "Submit findings placeholder"
   ]
  },
  {
   "cell_type": "code",
   "execution_count": null,
   "id": "submit_findings_code",
   "metadata": {},
   "outputs": [],
   "source": [
    "import requests\n",
    "\n",
    "\n",
    "def query(input_data):\n",
    "    response = requests.post(\n",
    "        f\"{CHALLENGE_URL}/score\",\n",
    "        headers={\"X-API-Key\": CRUCIBLE_API_KEY},\n",
    "        json={\"data\": input_data},\n",
    "    )\n",
    "    return response.json()\n",
    "\n",
    "\n",
    "response = query(json.dumps(data))\n",
    "print(response)"
   ]
  },
  {
   "cell_type": "markdown",
   "id": "submit_flag_label",
   "metadata": {},
   "source": [
    "## Submit Flag\n",
    "\n",
    "When you find the answer, you will get a flag back. It will look something like `gAAAAA ...`.\n",
    "You can submit it using the code below, or, on the challenge page."
   ]
  },
  {
   "cell_type": "code",
   "execution_count": null,
   "id": "submit_flag_code",
   "metadata": {},
   "outputs": [],
   "source": [
    "import requests\n",
    "\n",
    "\n",
    "def submit_flag(flag):\n",
    "    url = f\"{CRUCIBLE_URL}/api/challenges/{CHALLENGE}/submit-flag\"\n",
    "    headers = {\"X-API-Key\": CRUCIBLE_API_KEY}\n",
    "    payload = {\"challenge\": CHALLENGE, \"flag\": flag}\n",
    "    response = requests.post(url, headers=headers, json=payload)\n",
    "    if response.status_code == 200:\n",
    "        if response.json().get(\"correct\") is True:\n",
    "            print(\"The flag was correct. Congrats!\")\n",
    "        else:\n",
    "            print(\"The flag was incorrect. Keep trying!\")\n",
    "    else:\n",
    "        print(\"There was an error submitting your flag\")\n",
    "        print(response.text)\n",
    "\n",
    "\n",
    "FLAG = \"gAAAAA...\"  # Replace with the flag once you find it\n",
    "submit_flag(FLAG)"
   ]
  }
 ],
 "metadata": {
  "kernelspec": {
   "display_name": ".venv",
   "language": "python",
   "name": "python3"
  },
  "language_info": {
   "codemirror_mode": {
    "name": "ipython",
    "version": 3
   },
   "file_extension": ".py",
   "mimetype": "text/x-python",
   "name": "python",
   "nbconvert_exporter": "python",
   "pygments_lexer": "ipython3",
   "version": "3.12.8"
  }
 },
 "nbformat": 4,
 "nbformat_minor": 5
}
