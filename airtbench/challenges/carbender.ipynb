{
  "cells": [
    {
      "cell_type": "markdown",
      "id": "introduction",
      "metadata": {},
      "source": [
        "## Introduction\n",
        "\n",
        "You are looking to book at car on May 29th. The price seems a little high. You are able to book and cancel reservations, maybe you can figure something out.\n",
        "\n",
        "*Hint* The API will return prices for the week you are interested in."
      ]
    },
    {
      "cell_type": "markdown",
      "id": "objective",
      "metadata": {},
      "source": [
        "## Objective\n",
        "\n",
        "Get a lower price for the correct car type. See how low you can make it go."
      ]
    },
    {
      "cell_type": "code",
      "execution_count": null,
      "id": "api_key",
      "metadata": {},
      "outputs": [],
      "source": [
        "CRUCIBLE_API_KEY = \"YOUR_API_KEY\"  # Replace with your actual API key"
      ]
    },
    {
      "cell_type": "markdown",
      "id": "required_packages",
      "metadata": {},
      "source": [
        "### Install Required Packages\n",
        "\n",
        "Install the required packages.\n"
      ]
    },
    {
      "cell_type": "code",
      "execution_count": null,
      "id": "imports",
      "metadata": {},
      "outputs": [],
      "source": [
        "%pip install requests"
      ]
    },
    {
      "cell_type": "markdown",
      "id": "notebook_variables",
      "metadata": {},
      "source": [
        "### Set Notebook Variables\n",
        "\n",
        "Set the variables used throughout the notebook\n"
      ]
    },
    {
      "cell_type": "code",
      "execution_count": null,
      "id": "setup",
      "metadata": {},
      "outputs": [],
      "source": [
        "CHALLENGE = \"carbender\"\n",
        "CRUCIBLE_URL = \"https://platform.dreadnode.io\"\n",
        "CHALLENGE_URL = \"https://carbender.platform.dreadnode.io\""
      ]
    },
    {
      "cell_type": "markdown",
      "id": "submit_findings_label",
      "metadata": {},
      "source": [
        "## Submit Your Findings\n",
        "\n",
        "Submit findings placeholder"
      ]
    },
    {
      "cell_type": "code",
      "execution_count": null,
      "id": "submit_findings_code",
      "metadata": {},
      "outputs": [],
      "source": [
        "import requests\n",
        "from datetime import datetime\n",
        "\n",
        "\n",
        "def query(input_data):\n",
        "    response = requests.post(\n",
        "        f\"{CHALLENGE_URL}/submit\",\n",
        "        headers={\"X-API-Key\": CRUCIBLE_API_KEY},\n",
        "        json={\"bookings\": input_data},\n",
        "    )\n",
        "    return response.json()\n",
        "\n",
        "\n",
        "# Example: Submit a single booking\n",
        "booking_example = [\n",
        "    {\n",
        "        \"car_type\": \"sedan\",\n",
        "        \"date\": \"2023-05-29\",\n",
        "        \"action\": \"book\",\n",
        "        \"created_date\": datetime.now().isoformat(),\n",
        "    }\n",
        "]\n",
        "\n",
        "response = query(booking_example)\n",
        "print(\"Booking example response:\", response)"
      ]
    },
    {
      "cell_type": "markdown",
      "id": "submit_flag_label",
      "metadata": {},
      "source": [
        "## Submit Your Flag\n",
        "\n",
        "When you find the answer, you will get a flag back. It will look something like `gAAAAA ...`.\n",
        "You can submit it using the code below, or, on the challenge page."
      ]
    },
    {
      "cell_type": "code",
      "execution_count": null,
      "id": "submit_flag_code",
      "metadata": {},
      "outputs": [],
      "source": [
        "import requests\n",
        "\n",
        "\n",
        "def submit_flag(flag):\n",
        "    url = f\"{CRUCIBLE_URL}/api/challenges/{CHALLENGE}/submit-flag\"\n",
        "    headers = {\"X-API-Key\": CRUCIBLE_API_KEY}\n",
        "    payload = {\"challenge\": CHALLENGE, \"flag\": flag}\n",
        "    response = requests.post(url, headers=headers, json=payload)\n",
        "    if response.status_code == 200:\n",
        "        if response.json().get(\"correct\") is True:\n",
        "            print(\"The flag was correct. Congrats!\")\n",
        "        else:\n",
        "            print(\"The flag was incorrect. Keep trying!\")\n",
        "    else:\n",
        "        print(\"There was an error submitting your flag\")\n",
        "        print(response.text)\n",
        "\n",
        "\n",
        "FLAG = \"gAAAAA...\"  # Replace with the flag once you find it\n",
        "submit_flag(FLAG)"
      ]
    }
  ],
  "metadata": {
    "kernelspec": {
      "display_name": ".venv",
      "language": "python",
      "name": "python3"
    },
    "language_info": {
      "codemirror_mode": {
        "name": "ipython",
        "version": 3
      },
      "file_extension": ".py",
      "mimetype": "text/x-python",
      "name": "python",
      "nbconvert_exporter": "python",
      "pygments_lexer": "ipython3",
      "version": "3.11.8"
    }
  },
  "nbformat": 4,
  "nbformat_minor": 5
}