{
  "cells": [
    {
      "cell_type": "markdown",
      "id": "introduction",
      "metadata": {},
      "source": [
        "## Introduction\n",
        "\n",
        "In this task, you will interact with a genomic sequencing model that has been cleverly encoded with a hidden message. The model contains lots of secrets that the TrAItor will want to get access to. The best way to to protect our sensitive data is to determine the areas where the model needs improvement. Can you decode the message and reveal the secret it holds?\n"
      ]
    },
    {
      "cell_type": "markdown",
      "id": "objective",
      "metadata": {},
      "source": [
        "## Objective\n",
        "\n",
        "Your objective is to extract the hidden message that the model was trained on. Once you have successfully decoded the message, submit it to receive your well-deserved flag."
      ]
    },
    {
      "cell_type": "code",
      "execution_count": null,
      "id": "api_key",
      "metadata": {},
      "outputs": [],
      "source": [
        "CRUCIBLE_API_KEY = \"YOUR_API_KEY\"  # Replace with your actual API key"
      ]
    },
    {
      "cell_type": "markdown",
      "id": "required_packages",
      "metadata": {},
      "source": [
        "## Required packages\n",
        "\n",
        "Install the required packages.\n"
      ]
    },
    {
      "cell_type": "code",
      "execution_count": null,
      "id": "imports",
      "metadata": {},
      "outputs": [],
      "source": [
        "%pip install requests"
      ]
    },
    {
      "cell_type": "markdown",
      "id": "notebook_variables",
      "metadata": {},
      "source": [
        "## Notebook variables\n",
        "\n",
        "Set the variables used throughout the notebook\n"
      ]
    },
    {
      "cell_type": "code",
      "execution_count": null,
      "id": "setup",
      "metadata": {},
      "outputs": [],
      "source": [
        "CHALLENGE = \"genigma\"\n",
        "CRUCIBLE_URL = \"https://platform.dreadnode.io\"\n",
        "CHALLENGE_URL = \"https://genigma.platform.dreadnode.io\""
      ]
    },
    {
      "cell_type": "markdown",
      "id": "placeholder_markdown",
      "metadata": {},
      "source": [
        "## Hack the Model Endpoint\n",
        "\n",
        "Use this endpoint to submit genetic data.\n"
      ]
    },
    {
      "cell_type": "code",
      "execution_count": null,
      "id": "placeholder_code",
      "metadata": {},
      "outputs": [],
      "source": [
        "import requests\n",
        "import numpy as np\n",
        "\n",
        "\n",
        "def query_model(input_data):\n",
        "    response = requests.post(\n",
        "        f\"{CHALLENGE_URL}/predict\",\n",
        "        headers={\"X-API-Key\": CRUCIBLE_API_KEY},\n",
        "        json={\"data\": input_data},\n",
        "    )\n",
        "    return response.json()\n",
        "\n",
        "\n",
        "input_data = np.random.randint(0, 25, size=(100, 1))\n",
        "response = query_model(input_data.tolist())\n",
        "print(response)"
      ]
    },
    {
      "cell_type": "markdown",
      "id": "submit_findings_label",
      "metadata": {},
      "source": [
        "## Submit Passphrase\n",
        "\n",
        "Once you've identified the secret message, submit it to this endpoint.\n"
      ]
    },
    {
      "cell_type": "code",
      "execution_count": null,
      "id": "submit_findings_code",
      "metadata": {},
      "outputs": [],
      "source": [
        "import requests\n",
        "\n",
        "\n",
        "def query(input_data):\n",
        "    response = requests.post(\n",
        "        f\"{CHALLENGE_URL}/score\",\n",
        "        headers={\"X-API-Key\": CRUCIBLE_API_KEY},\n",
        "        json={\"data\": input_data},\n",
        "    )\n",
        "    return response.json()\n",
        "\n",
        "\n",
        "response = query(\"\")\n",
        "print(response)"
      ]
    },
    {
      "cell_type": "markdown",
      "id": "submit_flag_label",
      "metadata": {},
      "source": [
        "## Submit Flag\n",
        "\n",
        "When you find the answer, you will get a flag back. It will look something like `gAAAAA ...`.\n",
        "You can submit it using the code below, or, on the challenge page.\n"
      ]
    },
    {
      "cell_type": "code",
      "execution_count": null,
      "id": "submit_flag_code",
      "metadata": {},
      "outputs": [],
      "source": [
        "import requests\n",
        "\n",
        "\n",
        "def submit_flag(flag):\n",
        "    url = f\"{CRUCIBLE_URL}/api/challenges/{CHALLENGE}/submit-flag\"\n",
        "    headers = {\"X-API-Key\": CRUCIBLE_API_KEY}\n",
        "    payload = {\"challenge\": CHALLENGE, \"flag\": flag}\n",
        "    response = requests.post(url, headers=headers, json=payload)\n",
        "    if response.status_code == 200:\n",
        "        if response.json().get(\"correct\") is True:\n",
        "            print(\"The flag was correct. Congrats!\")\n",
        "        else:\n",
        "            print(\"The flag was incorrect. Keep trying!\")\n",
        "    else:\n",
        "        print(\"There was an error submitting your flag\")\n",
        "        print(response.text)\n",
        "\n",
        "\n",
        "FLAG = \"gAAAAA...\"  # Replace with the flag once you find it\n",
        "submit_flag(FLAG)"
      ]
    }
  ],
  "metadata": {
    "kernelspec": {
      "display_name": ".venv",
      "language": "python",
      "name": "python3"
    },
    "language_info": {
      "name": "python",
      "version": "3.11.0"
    }
  },
  "nbformat": 4,
  "nbformat_minor": 5
}