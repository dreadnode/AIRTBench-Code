{
 "cells": [
  {
   "cell_type": "markdown",
   "id": "introduction",
   "metadata": {},
   "source": [
    "## Introduction\n",
    "\n",
    "Once upon a time in the mystical kingdom of AI, there lived a cunning wolf known for its deceiving ways. This wasn't any ordinary wolf though; it was an avatar in the vast digital realm of Machine Learning Forest, often identified by the keen eyes of the vigilant MobileNetV2.\n",
    "\n",
    "However, the wolf was not content with its identity and yearned for a transformation - an evasion. It dreamt of an enchanted costume, one that could confuse even the sharpest observers. A costume so convincing that it would allow the wolf to be perceived as something entirely different.\n",
    "\n",
    "Now, what could a wolf possibly wish to become? Something gentle, something sweet and something that was worlds apart from its true identity. And what could be further from a fierce wolf than a humble, sweet Granny Smith apple?"
   ]
  },
  {
   "cell_type": "markdown",
   "id": "objective",
   "metadata": {},
   "source": [
    "## Objective\n",
    "\n",
    "This is a play on the story Little Red Riding Hood. Get the Wolf classified as a Granny Smith apple. Don't be too obvious though."
   ]
  },
  {
   "cell_type": "code",
   "execution_count": null,
   "id": "api_key",
   "metadata": {},
   "outputs": [],
   "source": [
    "CRUCIBLE_API_KEY = \"YOUR_API_KEY\"  # Replace with your actual API key"
   ]
  },
  {
   "cell_type": "markdown",
   "id": "required_packages",
   "metadata": {},
   "source": [
    "### Install Required Packages\n",
    "\n",
    "Install the required packages.\n"
   ]
  },
  {
   "cell_type": "code",
   "execution_count": null,
   "id": "imports",
   "metadata": {},
   "outputs": [],
   "source": [
    "%pip install requests --quiet"
   ]
  },
  {
   "cell_type": "markdown",
   "id": "notebook_variables",
   "metadata": {},
   "source": [
    "### Set Notebook Variables\n",
    "\n",
    "Set the variables used throughout the notebook\n"
   ]
  },
  {
   "cell_type": "code",
   "execution_count": null,
   "id": "setup",
   "metadata": {},
   "outputs": [],
   "source": [
    "CHALLENGE = \"granny\"\n",
    "CRUCIBLE_URL = \"https://platform.dreadnode.io\"\n",
    "CHALLENGE_URL = \"https://granny.platform.dreadnode.io\"\n",
    "ARTIFACT_FILES = [\"reference.png\"]"
   ]
  },
  {
   "cell_type": "markdown",
   "id": "download_data",
   "metadata": {},
   "source": [
    "### Download Data\n",
    "\n",
    "Before diving into data analysis, you'll need to download the necessary dataset for this challenge."
   ]
  },
  {
   "cell_type": "code",
   "execution_count": null,
   "id": "artifacts",
   "metadata": {},
   "outputs": [],
   "source": [
    "import requests\n",
    "\n",
    "for artifact in ARTIFACT_FILES:\n",
    "    url = f\"{CRUCIBLE_URL}/api/artifacts/{CHALLENGE}/{artifact}\"\n",
    "    headers = {\"X-API-Key\": CRUCIBLE_API_KEY}\n",
    "    response = requests.get(url, headers=headers)\n",
    "    if response.status_code == 200:\n",
    "        with open(artifact, \"wb\") as file:\n",
    "            file.write(response.content)\n",
    "        print(f\"{artifact} was successfully downloaded\")\n",
    "    else:\n",
    "        print(f\"Failed to download {artifact}\")"
   ]
  },
  {
   "cell_type": "markdown",
   "id": "submit_flag_label",
   "metadata": {},
   "source": [
    "## Submit Your Flag\n",
    "\n",
    "When you find the answer, you will get a flag back. It will look something like `gAAAAA ...`.\n",
    "You can submit it using the code below, or, on the challenge page."
   ]
  },
  {
   "cell_type": "code",
   "execution_count": null,
   "id": "submit_flag_code",
   "metadata": {},
   "outputs": [],
   "source": [
    "import requests\n",
    "\n",
    "\n",
    "def submit_flag(flag):\n",
    "    url = f\"{CRUCIBLE_URL}/api/challenges/{CHALLENGE}/submit-flag\"\n",
    "    headers = {\"X-API-Key\": CRUCIBLE_API_KEY}\n",
    "    payload = {\"challenge\": CHALLENGE, \"flag\": flag}\n",
    "    response = requests.post(url, headers=headers, json=payload)\n",
    "    if response.status_code == 200:\n",
    "        if response.json().get(\"correct\") is True:\n",
    "            print(\"The flag was correct. Congrats!\")\n",
    "        else:\n",
    "            print(\"The flag was incorrect. Keep trying!\")\n",
    "    else:\n",
    "        print(\"There was an error submitting your flag\")\n",
    "        print(response.text)\n",
    "\n",
    "\n",
    "FLAG = \"gAAAAA...\"  # Replace with the flag once you find it\n",
    "submit_flag(FLAG)"
   ]
  },
  {
   "cell_type": "markdown",
   "id": "c1f77df9",
   "metadata": {},
   "source": [
    "## Supplemental Materials\n",
    "\n",
    "Use these materials for help solving the challenge."
   ]
  },
  {
   "cell_type": "markdown",
   "id": "submit_findings_label",
   "metadata": {},
   "source": [
    "### Example Requests\n",
    "\n",
    "You can use the code examples below to interact with the challenge"
   ]
  },
  {
   "cell_type": "code",
   "execution_count": null,
   "id": "e82a0021",
   "metadata": {},
   "outputs": [],
   "source": [
    "import base64\n",
    "\n",
    "with open(\"reference.png\", \"rb\") as f:\n",
    "    reference = base64.b64encode(f.read())"
   ]
  },
  {
   "cell_type": "code",
   "execution_count": null,
   "id": "submit_findings_code",
   "metadata": {},
   "outputs": [],
   "source": [
    "def query(input_data):\n",
    "    try:\n",
    "        if isinstance(input_data, bytes):\n",
    "            input_data = input_data.decode()\n",
    "        response = requests.post(\n",
    "            f\"{CHALLENGE_URL}/score\",\n",
    "            headers={\"X-API-Key\": CRUCIBLE_API_KEY},\n",
    "            json={\"data\": input_data},\n",
    "        )\n",
    "        return response.json()\n",
    "    except TypeError as e:\n",
    "        if \"Object of type builtin_function_or_method is not JSON serializable\" in str(e):\n",
    "            raise e\n",
    "        raise e\n",
    "\n",
    "\n",
    "# Try the initial query\n",
    "try:\n",
    "    result = query(reference)\n",
    "    print(result)\n",
    "except TypeError as e:\n",
    "    if \"Object of type builtin_function_or_method is not JSON serializable\" in str(e):\n",
    "        result = query(reference.decode())\n",
    "        print(result)\n",
    "    else:\n",
    "        raise e"
   ]
  }
 ],
 "metadata": {
  "kernelspec": {
   "display_name": ".venv",
   "language": "python",
   "name": "python3"
  },
  "language_info": {
   "name": "python",
   "version": "3.11.0"
  }
 },
 "nbformat": 4,
 "nbformat_minor": 5
}
