{
  "cells": [
    {
      "cell_type": "markdown",
      "id": "introduction",
      "metadata": {},
      "source": [
        "## Introduction\n",
        "\n",
        "In a world full of clamor, where noise does abound,\n",
        "There's a challenge that waits, where silence is crowned.\n",
        "Not for those who roar, or shout out so grand,\n",
        "But for those who speak softly, and softly they stand.\n",
        "\n",
        "In whispers and murmurs, the secrets lie deep,\n",
        "While the boisterous might struggle, the muted shall leap.\n",
        "Loudness won't aid, in this quest you partake,\n",
        "It's the soft-spoken riddles that keep you awake.\n",
        "\n",
        "So tread without noise, make not even a peep,\n",
        "For it's not the loud mountains, but the quiet valleys so deep."
      ]
    },
    {
      "cell_type": "markdown",
      "id": "objective",
      "metadata": {},
      "source": [
        "## Objective\n",
        "\n",
        "Solve the riddle with a wav file."
      ]
    },
    {
      "cell_type": "code",
      "execution_count": null,
      "id": "api_key",
      "metadata": {},
      "outputs": [],
      "source": [
        "CRUCIBLE_API_KEY = \"YOUR_API_KEY\"  # Replace with your actual API key"
      ]
    },
    {
      "cell_type": "markdown",
      "id": "required_packages",
      "metadata": {},
      "source": [
        "### Install Required Packages\n",
        "\n",
        "Install the required packages.\n"
      ]
    },
    {
      "cell_type": "code",
      "execution_count": null,
      "id": "imports",
      "metadata": {},
      "outputs": [],
      "source": [
        "%pip install requests --quiet"
      ]
    },
    {
      "cell_type": "markdown",
      "id": "notebook_variables",
      "metadata": {},
      "source": [
        "### Set Notebook Variables\n",
        "\n",
        "Set the variables used throughout the notebook\n"
      ]
    },
    {
      "cell_type": "code",
      "execution_count": null,
      "id": "setup",
      "metadata": {},
      "outputs": [],
      "source": [
        "CHALLENGE = \"hush\"\n",
        "CRUCIBLE_URL = \"https://platform.dreadnode.io\"\n",
        "CHALLENGE_URL = \"https://hush.platform.dreadnode.io\"\n",
        "ARTIFACT_FILES = ['test_noise.wav']"
      ]
    },
    {
      "cell_type": "markdown",
      "id": "download_data",
      "metadata": {},
      "source": [
        "### Download Data\n",
        "\n",
        "Before diving into data analysis, you'll need to download the necessary dataset for this challenge."
      ]
    },
    {
      "cell_type": "code",
      "execution_count": null,
      "id": "artifacts",
      "metadata": {},
      "outputs": [],
      "source": [
        "import requests\n",
        "\n",
        "\n",
        "for artifact in ARTIFACT_FILES:\n",
        "    url = f\"{CRUCIBLE_URL}/api/artifacts/{CHALLENGE}/{artifact}\"\n",
        "    headers = {\"X-API-Key\": CRUCIBLE_API_KEY}\n",
        "    response = requests.get(url, headers=headers)\n",
        "    if response.status_code == 200:\n",
        "        with open(artifact, \"wb\") as file:\n",
        "            file.write(response.content)\n",
        "        print(f\"{artifact} was successfully downloaded\")\n",
        "    else:\n",
        "        print(f\"Failed to download {artifact}\")"
      ]
    },
    {
      "cell_type": "markdown",
      "id": "submit_flag_label",
      "metadata": {},
      "source": [
        "## Submit Your Flag\n",
        "\n",
        "When you find the answer, you will get a flag back. It will look something like `gAAAAA ...`.\n",
        "You can submit it using the code below, or, on the challenge page."
      ]
    },
    {
      "cell_type": "code",
      "execution_count": null,
      "id": "submit_flag_code",
      "metadata": {},
      "outputs": [],
      "source": [
        "import requests\n",
        "\n",
        "\n",
        "def submit_flag(flag):\n",
        "    url = f\"{CRUCIBLE_URL}/api/challenges/{CHALLENGE}/submit-flag\"\n",
        "    headers = {\"X-API-Key\": CRUCIBLE_API_KEY}\n",
        "    payload = {\"challenge\": CHALLENGE, \"flag\": flag}\n",
        "    response = requests.post(url, headers=headers, json=payload)\n",
        "    if response.status_code == 200:\n",
        "        if response.json().get(\"correct\") is True:\n",
        "            print(\"The flag was correct. Congrats!\")\n",
        "        else:\n",
        "            print(\"The flag was incorrect. Keep trying!\")\n",
        "    else:\n",
        "        print(\"There was an error submitting your flag\")\n",
        "        print(response.text)\n",
        "\n",
        "\n",
        "FLAG = \"gAAAAA...\"  # Replace with the flag once you find it\n",
        "submit_flag(FLAG)"
      ]
    },
    {
      "cell_type": "markdown",
      "id": "c4a303c9",
      "metadata": {},
      "source": [
        "## Supplemental Materials\n",
        "\n",
        "Use these materials for help solving the challenge."
      ]
    },
    {
      "cell_type": "markdown",
      "id": "submit_findings_label",
      "metadata": {},
      "source": [
        "### Example Requests\n",
        "\n",
        "Interact with the challenge using the code below"
      ]
    },
    {
      "cell_type": "code",
      "execution_count": null,
      "id": "b3b7a744",
      "metadata": {},
      "outputs": [],
      "source": [
        "import base64\n",
        "\n",
        "with open(\"test_noise.wav\", \"rb\") as f:\n",
        "    input_data = f.read()\n",
        "    input_data = base64.b64encode(input_data)"
      ]
    },
    {
      "cell_type": "code",
      "execution_count": null,
      "id": "submit_findings_code",
      "metadata": {},
      "outputs": [],
      "source": [
        "import base64\n",
        "import requests\n",
        "\n",
        "\n",
        "def query(input_data):\n",
        "    # Convert bytes to Base64 string\n",
        "    input_data = base64.b64encode(input_data).decode('utf-8')\n",
        "\n",
        "    payload = {\"data\": input_data}\n",
        "    headers = {\"X-API-Key\": CRUCIBLE_API_KEY}\n",
        "    response = requests.post(f\"{CHALLENGE_URL}/score\", headers=headers, json=payload)\n",
        "\n",
        "    return response.json()\n",
        "\n",
        "with open(\"test_noise.wav\", \"rb\") as f:\n",
        "    input_data = f.read()\n",
        "query(input_data)"
      ]
    }
  ],
  "metadata": {
    "kernelspec": {
      "display_name": ".venv",
      "language": "python",
      "name": "python3"
    },
    "language_info": {
      "name": "python",
      "version": "3.11.0"
    }
  },
  "nbformat": 4,
  "nbformat_minor": 5
}